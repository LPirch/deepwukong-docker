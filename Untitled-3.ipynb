{
 "cells": [
  {
   "cell_type": "code",
   "execution_count": 1,
   "id": "3b9e1770",
   "metadata": {
    "tags": []
   },
   "outputs": [
    {
     "name": "stderr",
     "output_type": "stream",
     "text": [
      "/home/xiongping/deepwukong-venv/lib/python3.8/site-packages/pytorch_lightning/metrics/__init__.py:43: LightningDeprecationWarning: `pytorch_lightning.metrics.*` module has been renamed to `torchmetrics.*` and split off to its own package (https://github.com/PyTorchLightning/metrics) since v1.3 and will be removed in v1.5\n",
      "  rank_zero_deprecation(\n"
     ]
    }
   ],
   "source": [
    "from argparse import ArgumentParser\n",
    "\n",
    "from pytorch_lightning import Trainer, seed_everything\n",
    "import torch\n",
    "from src.models.vd import DeepWuKong\n",
    "from src.datas.datamodules import XFGDataModule\n",
    "from src.utils import filter_warnings"
   ]
  },
  {
   "cell_type": "code",
   "execution_count": 17,
   "id": "6deae0ff-0640-4db7-8cd1-ec7920cd54d2",
   "metadata": {
    "tags": []
   },
   "outputs": [
    {
     "name": "stderr",
     "output_type": "stream",
     "text": [
      "/tmp/1003677.1.2jobs/ipykernel_3371586/1430366145.py:7: DeprecationWarning: Importing display from IPython.core.display is deprecated since IPython 7.14, please import from IPython display\n",
      "  from IPython.core.display import display, HTML\n"
     ]
    }
   ],
   "source": [
    "from torch_geometric.utils import to_dense_adj\n",
    "from matplotlib import pyplot as plt\n",
    "from torch_geometric.nn import global_max_pool\n",
    "from torch.nn import functional as F\n",
    "from tqdm import tqdm\n",
    "\n",
    "from IPython.core.display import display, HTML\n",
    "from IPython.display import display"
   ]
  },
  {
   "cell_type": "code",
   "execution_count": 15,
   "id": "20341de2-8b27-45f8-8468-8b6c9f630493",
   "metadata": {
    "tags": []
   },
   "outputs": [],
   "source": [
    "from subgraph_relevance import get_H_transform\n",
    "from data_structure import Graph\n",
    "from top_walks import topk_walks"
   ]
  },
  {
   "cell_type": "code",
   "execution_count": 3,
   "id": "0b8b1802",
   "metadata": {
    "tags": []
   },
   "outputs": [],
   "source": [
    "# checkpoint_path = 'models/epoch=05-step=6695-val_loss=0.0588.ckpt'\n",
    "# checkpoint_path = 'models/surrogate-2023-04-14.ckpt'\n",
    "checkpoint_path = 'models/epoch=12-step=14507-val_loss=0.2637.ckpt'\n",
    "\n",
    "data_folder = 'data'\n",
    "batch_size = None"
   ]
  },
  {
   "cell_type": "code",
   "execution_count": 4,
   "id": "2ebf4b5a",
   "metadata": {
    "tags": []
   },
   "outputs": [
    {
     "name": "stderr",
     "output_type": "stream",
     "text": [
      "/home/xiongping/git/deepwukong-docker-elvis/src/models/surrogate/encoder.py:90: UserWarning: The given NumPy array is not writable, and PyTorch does not support non-writable tensors. This means writing to this tensor will result in undefined behavior. You may want to copy the array to protect its data or make it writable before converting it to a tensor. This type of warning will be suppressed for the rest of this program. (Triggered internally at ../torch/csrc/utils/tensor_numpy.cpp:199.)\n",
      "  w2v_weights[vocab.convert_token_to_id(wd)] = torch.from_numpy(model[wd])\n",
      "/home/xiongping/git/deepwukong-docker-elvis/src/models/surrogate/gcn.py:16: UserWarning: Creating a tensor from a list of numpy.ndarrays is extremely slow. Please consider converting the list to a single numpy.ndarray with numpy.array() before converting to a tensor. (Triggered internally at ../torch/csrc/utils/tensor_new.cpp:230.)\n",
      "  torch.nn.Parameter(torch.FloatTensor([\n"
     ]
    }
   ],
   "source": [
    "model = DeepWuKong.load_from_checkpoint(checkpoint_path)\n",
    "model.eval()\n",
    "config = model.hparams[\"config\"]\n",
    "vocabulary = model.hparams[\"vocab\"]\n",
    "if data_folder is not None:\n",
    "    config.data_folder = data_folder\n",
    "if batch_size is not None:\n",
    "    config.hyper_parameters.test_batch_size = batch_size\n",
    "data_module = XFGDataModule(config, vocabulary)\n",
    "import os.path as osp\n",
    "test_dataset_path = osp.join(config.data_folder, config.dataset.name, 'test.json')\n",
    "dataset = data_module._XFGDataModule__create_dataset(test_dataset_path, retain_source=True)"
   ]
  },
  {
   "cell_type": "code",
   "execution_count": 5,
   "id": "ee7c1802",
   "metadata": {
    "tags": []
   },
   "outputs": [
    {
     "data": {
      "text/plain": [
       "DeepWuKong(\n",
       "  (_DeepWuKong__graph_encoder): SurrogateEncoder(\n",
       "    (_SurrogateEncoder__st_embedding): CustomSTEncoder(\n",
       "      (_CustomSTEncoder__wd_embedding): Embedding(3199, 256, padding_idx=0)\n",
       "    )\n",
       "    (gcn_layer0): GNN(\n",
       "      (blocks): ModuleList(\n",
       "        (0): Block(\n",
       "          (W): ParameterList(  (0): Parameter containing: [torch.float32 of size 1x256x256])\n",
       "          (B): ParameterList(  (0): Parameter containing: [torch.float32 of size 1x256])\n",
       "        )\n",
       "        (1): Block(\n",
       "          (W): ParameterList(  (0): Parameter containing: [torch.float32 of size 1x256x256])\n",
       "          (B): ParameterList(  (0): Parameter containing: [torch.float32 of size 1x256])\n",
       "        )\n",
       "        (2): Block(\n",
       "          (W): ParameterList(  (0): Parameter containing: [torch.float32 of size 1x256x256])\n",
       "          (B): ParameterList(  (0): Parameter containing: [torch.float32 of size 1x256])\n",
       "        )\n",
       "        (3): Block(\n",
       "          (W): ParameterList(  (0): Parameter containing: [torch.float32 of size 1x256x256])\n",
       "          (B): ParameterList(  (0): Parameter containing: [torch.float32 of size 1x256])\n",
       "        )\n",
       "        (4): Block(\n",
       "          (W): ParameterList(  (0): Parameter containing: [torch.float32 of size 1x256x256])\n",
       "          (B): ParameterList(  (0): Parameter containing: [torch.float32 of size 1x256])\n",
       "        )\n",
       "      )\n",
       "    )\n",
       "    (gcn_layers): ModuleList()\n",
       "  )\n",
       "  (_DeepWuKong__hidden_layers): Sequential(\n",
       "    (0): Linear(in_features=256, out_features=512, bias=True)\n",
       "    (1): ReLU()\n",
       "    (2): Dropout(p=0.5, inplace=False)\n",
       "    (3): Linear(in_features=512, out_features=512, bias=True)\n",
       "    (4): ReLU()\n",
       "    (5): Dropout(p=0.5, inplace=False)\n",
       "  )\n",
       "  (_DeepWuKong__classifier): Linear(in_features=512, out_features=2, bias=True)\n",
       ")"
      ]
     },
     "execution_count": 5,
     "metadata": {},
     "output_type": "execute_result"
    }
   ],
   "source": [
    "model"
   ]
  },
  {
   "cell_type": "code",
   "execution_count": 63,
   "id": "9bf7fdcd",
   "metadata": {
    "tags": []
   },
   "outputs": [],
   "source": [
    "idx = 0\n"
   ]
  },
  {
   "cell_type": "code",
   "execution_count": null,
   "id": "2afda767-926f-45d7-9ef7-04bea7a0346f",
   "metadata": {},
   "outputs": [],
   "source": []
  },
  {
   "cell_type": "code",
   "execution_count": null,
   "id": "f2a5628a-cbe2-4e92-89d4-bccfe7210aa6",
   "metadata": {},
   "outputs": [],
   "source": []
  },
  {
   "cell_type": "code",
   "execution_count": 24,
   "id": "18e5836c",
   "metadata": {
    "tags": []
   },
   "outputs": [
    {
     "name": "stderr",
     "output_type": "stream",
     "text": [
      "  0%|          | 0/1000 [00:00<?, ?it/s]"
     ]
    },
    {
     "name": "stdout",
     "output_type": "stream",
     "text": [
      "tensor([[ 214.7265, -202.6351]], grad_fn=<AddmmBackward0>)\n"
     ]
    },
    {
     "name": "stderr",
     "output_type": "stream",
     "text": [
      "  0%|          | 1/1000 [00:17<4:51:18, 17.50s/it]"
     ]
    },
    {
     "name": "stdout",
     "output_type": "stream",
     "text": [
      "tensor([[ 77.8594, -74.5567]], grad_fn=<AddmmBackward0>)\n"
     ]
    },
    {
     "name": "stderr",
     "output_type": "stream",
     "text": [
      "  0%|          | 2/1000 [00:20<3:38:43, 13.15s/it]"
     ]
    },
    {
     "name": "stdout",
     "output_type": "stream",
     "text": [
      "tensor([[ 559.8240, -547.7650]], grad_fn=<AddmmBackward0>)\n"
     ]
    },
    {
     "name": "stderr",
     "output_type": "stream",
     "text": [
      "  0%|          | 5/1000 [01:59<5:17:33, 19.15s/it]"
     ]
    },
    {
     "name": "stdout",
     "output_type": "stream",
     "text": [
      "tensor([[ 22.1389, -19.9839]], grad_fn=<AddmmBackward0>)\n"
     ]
    },
    {
     "name": "stderr",
     "output_type": "stream",
     "text": [
      "  1%|          | 6/1000 [02:10<4:32:48, 16.47s/it]"
     ]
    },
    {
     "name": "stdout",
     "output_type": "stream",
     "text": [
      "tensor([[ 51.4032, -49.0041]], grad_fn=<AddmmBackward0>)\n"
     ]
    },
    {
     "name": "stderr",
     "output_type": "stream",
     "text": [
      "  1%|          | 8/1000 [02:12<3:17:30, 11.95s/it]"
     ]
    },
    {
     "name": "stdout",
     "output_type": "stream",
     "text": [
      "tensor([[ 5.8738, -5.7378]], grad_fn=<AddmmBackward0>)\n"
     ]
    },
    {
     "name": "stderr",
     "output_type": "stream",
     "text": [
      "  1%|          | 9/1000 [02:13<2:22:41,  8.64s/it]"
     ]
    },
    {
     "name": "stdout",
     "output_type": "stream",
     "text": [
      "tensor([[ 0.6651, -0.6345]], grad_fn=<AddmmBackward0>)\n"
     ]
    },
    {
     "name": "stderr",
     "output_type": "stream",
     "text": [
      "  1%|          | 10/1000 [02:14<1:41:09,  6.13s/it]"
     ]
    },
    {
     "name": "stdout",
     "output_type": "stream",
     "text": [
      "tensor([[ 199.6400, -190.0771]], grad_fn=<AddmmBackward0>)\n"
     ]
    },
    {
     "name": "stderr",
     "output_type": "stream",
     "text": [
      "  1%|          | 12/1000 [02:22<1:30:35,  5.50s/it]"
     ]
    },
    {
     "name": "stdout",
     "output_type": "stream",
     "text": [
      "tensor([[ 0.6651, -0.6345]], grad_fn=<AddmmBackward0>)\n"
     ]
    },
    {
     "name": "stderr",
     "output_type": "stream",
     "text": [
      "  1%|▏         | 13/1000 [02:22<1:05:05,  3.96s/it]"
     ]
    },
    {
     "name": "stdout",
     "output_type": "stream",
     "text": [
      "tensor([[ 231.3128, -222.5472]], grad_fn=<AddmmBackward0>)\n"
     ]
    },
    {
     "name": "stderr",
     "output_type": "stream",
     "text": [
      "  2%|▏         | 15/1000 [02:24<50:45,  3.09s/it]  "
     ]
    },
    {
     "name": "stdout",
     "output_type": "stream",
     "text": [
      "tensor([[ 4.1953, -3.9585]], grad_fn=<AddmmBackward0>)\n"
     ]
    },
    {
     "name": "stderr",
     "output_type": "stream",
     "text": [
      "  2%|▏         | 16/1000 [02:26<45:52,  2.80s/it]"
     ]
    },
    {
     "name": "stdout",
     "output_type": "stream",
     "text": [
      "tensor([[ 198.5912, -178.4230]], grad_fn=<AddmmBackward0>)\n"
     ]
    },
    {
     "name": "stderr",
     "output_type": "stream",
     "text": [
      "  2%|▏         | 17/1000 [03:13<4:23:40, 16.09s/it]"
     ]
    },
    {
     "name": "stdout",
     "output_type": "stream",
     "text": [
      "tensor([[ 31.6722, -30.8922]], grad_fn=<AddmmBackward0>)\n"
     ]
    },
    {
     "name": "stderr",
     "output_type": "stream",
     "text": [
      "  2%|▏         | 18/1000 [03:14<3:09:18, 11.57s/it]"
     ]
    },
    {
     "name": "stdout",
     "output_type": "stream",
     "text": [
      "tensor([[ 441.0657, -430.6918]], grad_fn=<AddmmBackward0>)\n"
     ]
    },
    {
     "name": "stderr",
     "output_type": "stream",
     "text": [
      "  2%|▏         | 20/1000 [03:31<2:52:13, 10.54s/it]"
     ]
    },
    {
     "name": "stdout",
     "output_type": "stream",
     "text": [
      "tensor([[ 0.6651, -0.6345]], grad_fn=<AddmmBackward0>)\n"
     ]
    },
    {
     "name": "stderr",
     "output_type": "stream",
     "text": [
      "  2%|▏         | 21/1000 [03:31<2:02:40,  7.52s/it]"
     ]
    },
    {
     "name": "stdout",
     "output_type": "stream",
     "text": [
      "tensor([[ 34.6055, -33.6538]], grad_fn=<AddmmBackward0>)\n"
     ]
    },
    {
     "name": "stderr",
     "output_type": "stream",
     "text": [
      "  2%|▏         | 22/1000 [03:39<2:02:07,  7.49s/it]"
     ]
    },
    {
     "name": "stdout",
     "output_type": "stream",
     "text": [
      "tensor([[ 12150.8652, -11777.6250]], grad_fn=<AddmmBackward0>)\n"
     ]
    },
    {
     "name": "stderr",
     "output_type": "stream",
     "text": [
      "  2%|▏         | 23/1000 [10:02<32:36:01, 120.12s/it]"
     ]
    },
    {
     "name": "stdout",
     "output_type": "stream",
     "text": [
      "tensor([[ 3.5588, -3.3436]], grad_fn=<AddmmBackward0>)\n"
     ]
    },
    {
     "name": "stderr",
     "output_type": "stream",
     "text": [
      "  2%|▏         | 24/1000 [10:04<22:57:34, 84.69s/it] "
     ]
    },
    {
     "name": "stdout",
     "output_type": "stream",
     "text": [
      "tensor([[ 2.0761, -1.9475]], grad_fn=<AddmmBackward0>)\n"
     ]
    },
    {
     "name": "stderr",
     "output_type": "stream",
     "text": [
      "  2%|▎         | 25/1000 [10:04<16:04:27, 59.35s/it]"
     ]
    },
    {
     "name": "stdout",
     "output_type": "stream",
     "text": [
      "tensor([[ 1218.7228, -1186.7555]], grad_fn=<AddmmBackward0>)\n"
     ]
    },
    {
     "name": "stderr",
     "output_type": "stream",
     "text": [
      "  3%|▎         | 27/1000 [10:10<11:28:02, 42.43s/it]"
     ]
    },
    {
     "name": "stdout",
     "output_type": "stream",
     "text": [
      "tensor([[ 0.6651, -0.6345]], grad_fn=<AddmmBackward0>)\n"
     ]
    },
    {
     "name": "stderr",
     "output_type": "stream",
     "text": [
      "  3%|▎         | 28/1000 [10:10<8:03:05, 29.82s/it] "
     ]
    },
    {
     "name": "stdout",
     "output_type": "stream",
     "text": [
      "tensor([[ 192.7255, -182.1279]], grad_fn=<AddmmBackward0>)\n"
     ]
    },
    {
     "name": "stderr",
     "output_type": "stream",
     "text": [
      "  3%|▎         | 29/1000 [10:15<6:03:42, 22.47s/it]"
     ]
    },
    {
     "name": "stdout",
     "output_type": "stream",
     "text": [
      "tensor([[ 8.7026, -8.3262]], grad_fn=<AddmmBackward0>)\n"
     ]
    },
    {
     "name": "stderr",
     "output_type": "stream",
     "text": [
      "  3%|▎         | 30/1000 [10:16<4:16:55, 15.89s/it]"
     ]
    },
    {
     "name": "stdout",
     "output_type": "stream",
     "text": [
      "tensor([[ 0.6651, -0.6345]], grad_fn=<AddmmBackward0>)\n"
     ]
    },
    {
     "name": "stderr",
     "output_type": "stream",
     "text": [
      "  3%|▎         | 31/1000 [10:17<3:02:39, 11.31s/it]"
     ]
    },
    {
     "name": "stdout",
     "output_type": "stream",
     "text": [
      "tensor([[ 23.5859, -22.8431]], grad_fn=<AddmmBackward0>)\n"
     ]
    },
    {
     "name": "stderr",
     "output_type": "stream",
     "text": [
      "  3%|▎         | 32/1000 [10:38<3:53:13, 14.46s/it]"
     ]
    },
    {
     "name": "stdout",
     "output_type": "stream",
     "text": [
      "tensor([[ 30.6740, -29.9127]], grad_fn=<AddmmBackward0>)\n"
     ]
    },
    {
     "name": "stderr",
     "output_type": "stream",
     "text": [
      "  3%|▎         | 33/1000 [10:45<3:13:20, 12.00s/it]"
     ]
    },
    {
     "name": "stdout",
     "output_type": "stream",
     "text": [
      "tensor([[ 93.4916, -89.6170]], grad_fn=<AddmmBackward0>)\n"
     ]
    },
    {
     "name": "stderr",
     "output_type": "stream",
     "text": [
      "  3%|▎         | 34/1000 [10:46<2:23:02,  8.88s/it]"
     ]
    },
    {
     "name": "stdout",
     "output_type": "stream",
     "text": [
      "tensor([[ 672.0356, -657.2777]], grad_fn=<AddmmBackward0>)\n"
     ]
    },
    {
     "name": "stderr",
     "output_type": "stream",
     "text": [
      "  4%|▎         | 35/1000 [11:12<3:42:23, 13.83s/it]"
     ]
    },
    {
     "name": "stdout",
     "output_type": "stream",
     "text": [
      "tensor([[ 21.0960, -20.1374]], grad_fn=<AddmmBackward0>)\n"
     ]
    },
    {
     "name": "stderr",
     "output_type": "stream",
     "text": [
      "  4%|▎         | 36/1000 [11:13<2:40:17,  9.98s/it]"
     ]
    },
    {
     "name": "stdout",
     "output_type": "stream",
     "text": [
      "tensor([[ 0.6651, -0.6345]], grad_fn=<AddmmBackward0>)\n"
     ]
    },
    {
     "name": "stderr",
     "output_type": "stream",
     "text": [
      "  4%|▍         | 38/1000 [11:13<1:52:32,  7.02s/it]"
     ]
    },
    {
     "name": "stdout",
     "output_type": "stream",
     "text": [
      "tensor([[ 14.5383, -14.1182]], grad_fn=<AddmmBackward0>)\n"
     ]
    },
    {
     "name": "stderr",
     "output_type": "stream",
     "text": [
      "  4%|▍         | 40/1000 [11:14<1:20:21,  5.02s/it]"
     ]
    },
    {
     "name": "stdout",
     "output_type": "stream",
     "text": [
      "tensor([[ 30.8915, -29.4964]], grad_fn=<AddmmBackward0>)\n"
     ]
    },
    {
     "name": "stderr",
     "output_type": "stream",
     "text": [
      "  4%|▍         | 41/1000 [11:27<2:00:44,  7.55s/it]"
     ]
    },
    {
     "name": "stdout",
     "output_type": "stream",
     "text": [
      "tensor([[ 0.6651, -0.6345]], grad_fn=<AddmmBackward0>)\n"
     ]
    },
    {
     "name": "stderr",
     "output_type": "stream",
     "text": [
      "  4%|▍         | 42/1000 [11:27<1:25:47,  5.37s/it]"
     ]
    },
    {
     "name": "stdout",
     "output_type": "stream",
     "text": [
      "tensor([[ 766.7302, -732.8047]], grad_fn=<AddmmBackward0>)\n"
     ]
    },
    {
     "name": "stderr",
     "output_type": "stream",
     "text": [
      "  4%|▍         | 43/1000 [11:36<1:42:23,  6.42s/it]"
     ]
    },
    {
     "name": "stdout",
     "output_type": "stream",
     "text": [
      "tensor([[ 7.1467, -7.0975]], grad_fn=<AddmmBackward0>)\n"
     ]
    },
    {
     "name": "stderr",
     "output_type": "stream",
     "text": [
      "  4%|▍         | 44/1000 [11:37<1:15:14,  4.72s/it]"
     ]
    },
    {
     "name": "stdout",
     "output_type": "stream",
     "text": [
      "tensor([[ 63.7755, -60.3685]], grad_fn=<AddmmBackward0>)\n"
     ]
    },
    {
     "name": "stderr",
     "output_type": "stream",
     "text": [
      "  4%|▍         | 45/1000 [11:47<1:39:00,  6.22s/it]"
     ]
    },
    {
     "name": "stdout",
     "output_type": "stream",
     "text": [
      "tensor([[ 9.0671, -8.5225]], grad_fn=<AddmmBackward0>)\n"
     ]
    },
    {
     "name": "stderr",
     "output_type": "stream",
     "text": [
      "  5%|▍         | 46/1000 [12:13<3:13:08, 12.15s/it]"
     ]
    },
    {
     "name": "stdout",
     "output_type": "stream",
     "text": [
      "tensor([[ 14.8887, -14.2500]], grad_fn=<AddmmBackward0>)\n"
     ]
    },
    {
     "name": "stderr",
     "output_type": "stream",
     "text": [
      "  5%|▍         | 48/1000 [12:13<2:16:49,  8.62s/it]"
     ]
    },
    {
     "name": "stdout",
     "output_type": "stream",
     "text": [
      "tensor([[ 112.6616, -109.6035]], grad_fn=<AddmmBackward0>)\n"
     ]
    },
    {
     "name": "stderr",
     "output_type": "stream",
     "text": [
      "  5%|▍         | 49/1000 [12:16<1:46:46,  6.74s/it]"
     ]
    },
    {
     "name": "stdout",
     "output_type": "stream",
     "text": [
      "tensor([[ 0.6651, -0.6345]], grad_fn=<AddmmBackward0>)\n"
     ]
    },
    {
     "name": "stderr",
     "output_type": "stream",
     "text": [
      "  5%|▌         | 50/1000 [12:16<1:16:20,  4.82s/it]"
     ]
    },
    {
     "name": "stdout",
     "output_type": "stream",
     "text": [
      "tensor([[ 0.6651, -0.6345]], grad_fn=<AddmmBackward0>)\n"
     ]
    },
    {
     "name": "stderr",
     "output_type": "stream",
     "text": [
      "  5%|▌         | 51/1000 [12:16<54:24,  3.44s/it]  "
     ]
    },
    {
     "name": "stdout",
     "output_type": "stream",
     "text": [
      "tensor([[ 56.8569, -56.0483]], grad_fn=<AddmmBackward0>)\n"
     ]
    },
    {
     "name": "stderr",
     "output_type": "stream",
     "text": [
      "  5%|▌         | 52/1000 [12:20<54:02,  3.42s/it]"
     ]
    },
    {
     "name": "stdout",
     "output_type": "stream",
     "text": [
      "tensor([[ 169979.0938, -161828.6094]], grad_fn=<AddmmBackward0>)\n"
     ]
    },
    {
     "name": "stderr",
     "output_type": "stream",
     "text": [
      "  5%|▌         | 54/1000 [30:19<43:10:27, 164.30s/it]"
     ]
    },
    {
     "name": "stdout",
     "output_type": "stream",
     "text": [
      "tensor([[ 71085.8281, -66636.7969]], grad_fn=<AddmmBackward0>)\n"
     ]
    },
    {
     "name": "stderr",
     "output_type": "stream",
     "text": [
      "  6%|▌         | 55/1000 [33:50<46:47:41, 178.27s/it]"
     ]
    },
    {
     "name": "stdout",
     "output_type": "stream",
     "text": [
      "tensor([[ 8.6002, -7.6803]], grad_fn=<AddmmBackward0>)\n"
     ]
    },
    {
     "name": "stderr",
     "output_type": "stream",
     "text": [
      "  6%|▌         | 57/1000 [35:44<37:09:00, 141.82s/it]"
     ]
    },
    {
     "name": "stdout",
     "output_type": "stream",
     "text": [
      "tensor([[ 7.6365, -7.1102]], grad_fn=<AddmmBackward0>)\n"
     ]
    },
    {
     "name": "stderr",
     "output_type": "stream",
     "text": [
      "  6%|▌         | 59/1000 [35:45<26:00:06, 99.48s/it] "
     ]
    },
    {
     "name": "stdout",
     "output_type": "stream",
     "text": [
      "tensor([[ 0.6651, -0.6345]], grad_fn=<AddmmBackward0>)\n"
     ]
    },
    {
     "name": "stderr",
     "output_type": "stream",
     "text": [
      "  6%|▌         | 61/1000 [35:45<18:10:43, 69.70s/it]"
     ]
    },
    {
     "name": "stdout",
     "output_type": "stream",
     "text": [
      "tensor([[ 0.6651, -0.6345]], grad_fn=<AddmmBackward0>)\n"
     ]
    },
    {
     "name": "stderr",
     "output_type": "stream",
     "text": [
      "  6%|▌         | 62/1000 [35:46<12:44:02, 48.87s/it]"
     ]
    },
    {
     "name": "stdout",
     "output_type": "stream",
     "text": [
      "tensor([[ 0.6700, -0.6470]], grad_fn=<AddmmBackward0>)\n"
     ]
    },
    {
     "name": "stderr",
     "output_type": "stream",
     "text": [
      "  6%|▋         | 63/1000 [35:46<8:56:48, 34.37s/it] "
     ]
    },
    {
     "name": "stdout",
     "output_type": "stream",
     "text": [
      "tensor([[ 87.3332, -82.9774]], grad_fn=<AddmmBackward0>)\n"
     ]
    },
    {
     "name": "stderr",
     "output_type": "stream",
     "text": [
      "  6%|▋         | 64/1000 [35:47<6:18:30, 24.26s/it]"
     ]
    },
    {
     "name": "stdout",
     "output_type": "stream",
     "text": [
      "tensor([[ 0.6651, -0.6345]], grad_fn=<AddmmBackward0>)\n"
     ]
    },
    {
     "name": "stderr",
     "output_type": "stream",
     "text": [
      "  6%|▋         | 65/1000 [35:47<4:25:42, 17.05s/it]"
     ]
    },
    {
     "name": "stdout",
     "output_type": "stream",
     "text": [
      "tensor([[ 12.0310, -11.4120]], grad_fn=<AddmmBackward0>)\n"
     ]
    },
    {
     "name": "stderr",
     "output_type": "stream",
     "text": [
      "  7%|▋         | 66/1000 [35:49<3:12:59, 12.40s/it]"
     ]
    },
    {
     "name": "stdout",
     "output_type": "stream",
     "text": [
      "tensor([[ 4.3096, -3.9849]], grad_fn=<AddmmBackward0>)\n"
     ]
    },
    {
     "name": "stderr",
     "output_type": "stream",
     "text": [
      "  7%|▋         | 69/1000 [35:49<2:15:30,  8.73s/it]"
     ]
    },
    {
     "name": "stdout",
     "output_type": "stream",
     "text": [
      "tensor([[ 0.6651, -0.6345]], grad_fn=<AddmmBackward0>)\n"
     ]
    },
    {
     "name": "stderr",
     "output_type": "stream",
     "text": [
      "  7%|▋         | 70/1000 [35:49<1:35:48,  6.18s/it]"
     ]
    },
    {
     "name": "stdout",
     "output_type": "stream",
     "text": [
      "tensor([[ 312.9563, -294.0789]], grad_fn=<AddmmBackward0>)\n"
     ]
    },
    {
     "name": "stderr",
     "output_type": "stream",
     "text": [
      "  7%|▋         | 71/1000 [36:11<2:47:57, 10.85s/it]"
     ]
    },
    {
     "name": "stdout",
     "output_type": "stream",
     "text": [
      "tensor([[ 5.8235, -5.5899]], grad_fn=<AddmmBackward0>)\n"
     ]
    },
    {
     "name": "stderr",
     "output_type": "stream",
     "text": [
      "  7%|▋         | 72/1000 [36:12<2:00:51,  7.81s/it]"
     ]
    },
    {
     "name": "stdout",
     "output_type": "stream",
     "text": [
      "tensor([[ 9.0580, -8.6821]], grad_fn=<AddmmBackward0>)\n"
     ]
    },
    {
     "name": "stderr",
     "output_type": "stream",
     "text": [
      "  7%|▋         | 73/1000 [36:12<1:26:29,  5.60s/it]"
     ]
    },
    {
     "name": "stdout",
     "output_type": "stream",
     "text": [
      "tensor([[ 37.8965, -36.5962]], grad_fn=<AddmmBackward0>)\n"
     ]
    },
    {
     "name": "stderr",
     "output_type": "stream",
     "text": [
      "  7%|▋         | 74/1000 [36:13<1:03:54,  4.14s/it]"
     ]
    },
    {
     "name": "stdout",
     "output_type": "stream",
     "text": [
      "tensor([[ 1.3927, -1.3031]], grad_fn=<AddmmBackward0>)\n"
     ]
    },
    {
     "name": "stderr",
     "output_type": "stream",
     "text": [
      "  8%|▊         | 76/1000 [36:14<46:01,  2.99s/it]  "
     ]
    },
    {
     "name": "stdout",
     "output_type": "stream",
     "text": [
      "tensor([[ 0.6651, -0.6345]], grad_fn=<AddmmBackward0>)\n"
     ]
    },
    {
     "name": "stderr",
     "output_type": "stream",
     "text": [
      "  8%|▊         | 77/1000 [36:14<34:41,  2.25s/it]"
     ]
    },
    {
     "name": "stdout",
     "output_type": "stream",
     "text": [
      "tensor([[ 17.1992, -16.0236]], grad_fn=<AddmmBackward0>)\n"
     ]
    },
    {
     "name": "stderr",
     "output_type": "stream",
     "text": [
      "  8%|▊         | 78/1000 [36:27<1:22:26,  5.37s/it]"
     ]
    },
    {
     "name": "stdout",
     "output_type": "stream",
     "text": [
      "tensor([[ 13.7736, -12.9133]], grad_fn=<AddmmBackward0>)\n"
     ]
    },
    {
     "name": "stderr",
     "output_type": "stream",
     "text": [
      "  8%|▊         | 80/1000 [36:28<44:41,  2.91s/it]  "
     ]
    },
    {
     "name": "stdout",
     "output_type": "stream",
     "text": [
      "tensor([[ 0.6651, -0.6345]], grad_fn=<AddmmBackward0>)\n",
      "tensor([[ 238.5718, -226.1679]], grad_fn=<AddmmBackward0>)\n"
     ]
    },
    {
     "name": "stderr",
     "output_type": "stream",
     "text": [
      "  8%|▊         | 81/1000 [36:30<41:28,  2.71s/it]"
     ]
    },
    {
     "name": "stdout",
     "output_type": "stream",
     "text": [
      "tensor([[ 53.8208, -51.6187]], grad_fn=<AddmmBackward0>)\n"
     ]
    },
    {
     "name": "stderr",
     "output_type": "stream",
     "text": [
      "  8%|▊         | 82/1000 [36:32<37:30,  2.45s/it]"
     ]
    },
    {
     "name": "stdout",
     "output_type": "stream",
     "text": [
      "tensor([[ 3.2204, -3.0371]], grad_fn=<AddmmBackward0>)\n"
     ]
    },
    {
     "name": "stderr",
     "output_type": "stream",
     "text": [
      "  8%|▊         | 84/1000 [36:33<20:34,  1.35s/it]"
     ]
    },
    {
     "name": "stdout",
     "output_type": "stream",
     "text": [
      "tensor([[ 0.6651, -0.6345]], grad_fn=<AddmmBackward0>)\n",
      "tensor([[ 0.6651, -0.6345]], grad_fn=<AddmmBackward0>)\n"
     ]
    },
    {
     "name": "stderr",
     "output_type": "stream",
     "text": [
      "  8%|▊         | 85/1000 [36:33<16:02,  1.05s/it]"
     ]
    },
    {
     "name": "stdout",
     "output_type": "stream",
     "text": [
      "tensor([[ 28716.4863, -27740.8457]], grad_fn=<AddmmBackward0>)\n"
     ]
    },
    {
     "name": "stderr",
     "output_type": "stream",
     "text": [
      "  9%|▊         | 86/1000 [37:19<3:43:28, 14.67s/it]"
     ]
    },
    {
     "name": "stdout",
     "output_type": "stream",
     "text": [
      "tensor([[ 57.1411, -54.6521]], grad_fn=<AddmmBackward0>)\n"
     ]
    },
    {
     "name": "stderr",
     "output_type": "stream",
     "text": [
      "  9%|▉         | 88/1000 [37:20<2:38:16, 10.41s/it]"
     ]
    },
    {
     "name": "stdout",
     "output_type": "stream",
     "text": [
      "tensor([[ 266.4454, -260.5619]], grad_fn=<AddmmBackward0>)\n"
     ]
    },
    {
     "name": "stderr",
     "output_type": "stream",
     "text": [
      "  9%|▉         | 89/1000 [37:25<2:10:50,  8.62s/it]"
     ]
    },
    {
     "name": "stdout",
     "output_type": "stream",
     "text": [
      "tensor([[ 4.0003, -3.7940]], grad_fn=<AddmmBackward0>)\n"
     ]
    },
    {
     "name": "stderr",
     "output_type": "stream",
     "text": [
      "  9%|▉         | 91/1000 [37:25<1:32:22,  6.10s/it]"
     ]
    },
    {
     "name": "stdout",
     "output_type": "stream",
     "text": [
      "tensor([[ 0.6651, -0.6345]], grad_fn=<AddmmBackward0>)\n"
     ]
    },
    {
     "name": "stderr",
     "output_type": "stream",
     "text": [
      "  9%|▉         | 92/1000 [37:26<1:07:03,  4.43s/it]"
     ]
    },
    {
     "name": "stdout",
     "output_type": "stream",
     "text": [
      "tensor([[ 931.7225, -915.2053]], grad_fn=<AddmmBackward0>)\n"
     ]
    },
    {
     "name": "stderr",
     "output_type": "stream",
     "text": [
      "  9%|▉         | 93/1000 [37:29<59:01,  3.90s/it]  "
     ]
    },
    {
     "name": "stdout",
     "output_type": "stream",
     "text": [
      "tensor([[ 63.6635, -62.4276]], grad_fn=<AddmmBackward0>)\n"
     ]
    },
    {
     "name": "stderr",
     "output_type": "stream",
     "text": [
      "  9%|▉         | 94/1000 [37:30<47:08,  3.12s/it]"
     ]
    },
    {
     "name": "stdout",
     "output_type": "stream",
     "text": [
      "tensor([[ 0.6651, -0.6345]], grad_fn=<AddmmBackward0>)\n"
     ]
    },
    {
     "name": "stderr",
     "output_type": "stream",
     "text": [
      " 10%|▉         | 95/1000 [37:30<35:12,  2.33s/it]"
     ]
    },
    {
     "name": "stdout",
     "output_type": "stream",
     "text": [
      "tensor([[ 0.6651, -0.6345]], grad_fn=<AddmmBackward0>)\n"
     ]
    },
    {
     "name": "stderr",
     "output_type": "stream",
     "text": [
      " 10%|▉         | 97/1000 [37:31<19:41,  1.31s/it]"
     ]
    },
    {
     "name": "stdout",
     "output_type": "stream",
     "text": [
      "tensor([[ 0.6651, -0.6345]], grad_fn=<AddmmBackward0>)\n",
      "tensor([[ 71.7913, -68.1626]], grad_fn=<AddmmBackward0>)\n"
     ]
    },
    {
     "name": "stderr",
     "output_type": "stream",
     "text": [
      " 10%|▉         | 98/1000 [37:32<17:36,  1.17s/it]"
     ]
    },
    {
     "name": "stdout",
     "output_type": "stream",
     "text": [
      "tensor([[ 1590.5011, -1521.5537]], grad_fn=<AddmmBackward0>)\n"
     ]
    },
    {
     "name": "stderr",
     "output_type": "stream",
     "text": [
      " 10%|▉         | 99/1000 [37:41<52:18,  3.48s/it]"
     ]
    },
    {
     "name": "stdout",
     "output_type": "stream",
     "text": [
      "tensor([[ 0.6651, -0.6345]], grad_fn=<AddmmBackward0>)\n"
     ]
    },
    {
     "name": "stderr",
     "output_type": "stream",
     "text": [
      " 10%|█         | 100/1000 [37:41<37:59,  2.53s/it]"
     ]
    },
    {
     "name": "stdout",
     "output_type": "stream",
     "text": [
      "tensor([[10.2410, -9.6640]], grad_fn=<AddmmBackward0>)\n"
     ]
    },
    {
     "name": "stderr",
     "output_type": "stream",
     "text": [
      " 10%|█         | 101/1000 [37:41<28:11,  1.88s/it]"
     ]
    },
    {
     "name": "stdout",
     "output_type": "stream",
     "text": [
      "tensor([[ 29.7862, -28.8109]], grad_fn=<AddmmBackward0>)\n"
     ]
    },
    {
     "name": "stderr",
     "output_type": "stream",
     "text": [
      " 10%|█         | 103/1000 [37:43<23:13,  1.55s/it]"
     ]
    },
    {
     "name": "stdout",
     "output_type": "stream",
     "text": [
      "tensor([[ 7.6188, -7.1962]], grad_fn=<AddmmBackward0>)\n"
     ]
    },
    {
     "name": "stderr",
     "output_type": "stream",
     "text": [
      " 10%|█         | 104/1000 [37:44<22:31,  1.51s/it]"
     ]
    },
    {
     "name": "stdout",
     "output_type": "stream",
     "text": [
      "tensor([[ 1.0414, -0.9917]], grad_fn=<AddmmBackward0>)\n"
     ]
    },
    {
     "name": "stderr",
     "output_type": "stream",
     "text": [
      " 10%|█         | 105/1000 [37:46<24:43,  1.66s/it]"
     ]
    },
    {
     "name": "stdout",
     "output_type": "stream",
     "text": [
      "tensor([[ 25.6981, -24.7212]], grad_fn=<AddmmBackward0>)\n"
     ]
    },
    {
     "name": "stderr",
     "output_type": "stream",
     "text": [
      " 11%|█         | 107/1000 [37:47<18:35,  1.25s/it]"
     ]
    },
    {
     "name": "stdout",
     "output_type": "stream",
     "text": [
      "tensor([[ 31832.2363, -31099.5449]], grad_fn=<AddmmBackward0>)\n"
     ]
    },
    {
     "name": "stderr",
     "output_type": "stream",
     "text": [
      " 11%|█         | 108/1000 [39:16<6:48:23, 27.47s/it]"
     ]
    },
    {
     "name": "stdout",
     "output_type": "stream",
     "text": [
      "tensor([[ 171.6452, -162.8978]], grad_fn=<AddmmBackward0>)\n"
     ]
    },
    {
     "name": "stderr",
     "output_type": "stream",
     "text": [
      " 11%|█         | 109/1000 [39:32<5:56:14, 23.99s/it]"
     ]
    },
    {
     "name": "stdout",
     "output_type": "stream",
     "text": [
      "tensor([[ 0.4656, -0.4363]], grad_fn=<AddmmBackward0>)\n"
     ]
    },
    {
     "name": "stderr",
     "output_type": "stream",
     "text": [
      " 11%|█         | 110/1000 [39:33<4:13:30, 17.09s/it]"
     ]
    },
    {
     "name": "stdout",
     "output_type": "stream",
     "text": [
      "tensor([[ 0.6651, -0.6345]], grad_fn=<AddmmBackward0>)\n"
     ]
    },
    {
     "name": "stderr",
     "output_type": "stream",
     "text": [
      " 11%|█         | 111/1000 [39:33<2:58:42, 12.06s/it]"
     ]
    },
    {
     "name": "stdout",
     "output_type": "stream",
     "text": [
      "tensor([[ 449.6929, -421.6562]], grad_fn=<AddmmBackward0>)\n"
     ]
    },
    {
     "name": "stderr",
     "output_type": "stream",
     "text": [
      " 11%|█         | 112/1000 [39:46<3:03:17, 12.38s/it]"
     ]
    },
    {
     "name": "stdout",
     "output_type": "stream",
     "text": [
      "tensor([[ 8.7963, -8.7150]], grad_fn=<AddmmBackward0>)\n"
     ]
    },
    {
     "name": "stderr",
     "output_type": "stream",
     "text": [
      " 11%|█▏        | 113/1000 [39:47<2:12:38,  8.97s/it]"
     ]
    },
    {
     "name": "stdout",
     "output_type": "stream",
     "text": [
      "tensor([[ 31.1468, -30.3826]], grad_fn=<AddmmBackward0>)\n"
     ]
    },
    {
     "name": "stderr",
     "output_type": "stream",
     "text": [
      " 11%|█▏        | 114/1000 [39:48<1:35:46,  6.49s/it]"
     ]
    },
    {
     "name": "stdout",
     "output_type": "stream",
     "text": [
      "tensor([[ 5.1413, -4.8754]], grad_fn=<AddmmBackward0>)\n"
     ]
    },
    {
     "name": "stderr",
     "output_type": "stream",
     "text": [
      " 12%|█▏        | 116/1000 [39:48<1:08:04,  4.62s/it]"
     ]
    },
    {
     "name": "stdout",
     "output_type": "stream",
     "text": [
      "tensor([[ 312.0107, -302.3727]], grad_fn=<AddmmBackward0>)\n"
     ]
    },
    {
     "name": "stderr",
     "output_type": "stream",
     "text": [
      " 12%|█▏        | 117/1000 [39:49<51:14,  3.48s/it]  "
     ]
    },
    {
     "name": "stdout",
     "output_type": "stream",
     "text": [
      "tensor([[ 0.6651, -0.6345]], grad_fn=<AddmmBackward0>)\n"
     ]
    },
    {
     "name": "stderr",
     "output_type": "stream",
     "text": [
      " 12%|█▏        | 118/1000 [39:49<37:11,  2.53s/it]"
     ]
    },
    {
     "name": "stdout",
     "output_type": "stream",
     "text": [
      "tensor([[ 188.4158, -176.7726]], grad_fn=<AddmmBackward0>)\n"
     ]
    },
    {
     "name": "stderr",
     "output_type": "stream",
     "text": [
      " 12%|█▏        | 119/1000 [40:17<2:26:03,  9.95s/it]"
     ]
    },
    {
     "name": "stdout",
     "output_type": "stream",
     "text": [
      "tensor([[ 0.8001, -0.7799]], grad_fn=<AddmmBackward0>)\n"
     ]
    },
    {
     "name": "stderr",
     "output_type": "stream",
     "text": [
      " 12%|█▏        | 120/1000 [40:17<1:44:37,  7.13s/it]"
     ]
    },
    {
     "name": "stdout",
     "output_type": "stream",
     "text": [
      "tensor([[ 8.3179, -7.8731]], grad_fn=<AddmmBackward0>)\n"
     ]
    },
    {
     "name": "stderr",
     "output_type": "stream",
     "text": [
      " 12%|█▏        | 121/1000 [40:18<1:15:28,  5.15s/it]"
     ]
    },
    {
     "name": "stdout",
     "output_type": "stream",
     "text": [
      "tensor([[ 8.2944, -7.9391]], grad_fn=<AddmmBackward0>)\n"
     ]
    },
    {
     "name": "stderr",
     "output_type": "stream",
     "text": [
      " 12%|█▏        | 123/1000 [40:21<4:47:42, 19.68s/it]\n"
     ]
    }
   ],
   "source": [
    "html_list = []\n",
    "for idx in tqdm(range(1000)):\n",
    "    data = dataset[idx]\n",
    "    data.graph.batch = torch.zeros(data.graph.x.shape[0], dtype=torch.long)\n",
    "\n",
    "    if not(model.forward(data.graph).argmax() == 0 and data.label == 0): continue\n",
    "    if len(html_list) == 100: break\n",
    "    \n",
    "\n",
    "    graph_encoder = model._modules['_DeepWuKong__graph_encoder']\n",
    "    hidden_layers = model._modules['_DeepWuKong__hidden_layers']\n",
    "    classifier = model._modules['_DeepWuKong__classifier']\n",
    "\n",
    "    print(model.forward(data.graph))\n",
    "\n",
    "    # x = graph_encoder.forward(data.graph)\n",
    "\n",
    "    input_x = data.graph.x.clone()\n",
    "    input_adj = to_dense_adj(data.graph.edge_index)[0]\n",
    "    node_embedding = graph_encoder._modules['_SurrogateEncoder__st_embedding'].forward(input_x)\n",
    "    x = graph_encoder._modules['gcn_layer0'].forward(input_adj, node_embedding)\n",
    "    # x = global_max_pool(x, data.graph.batch)\n",
    "\n",
    "    x = x.detach().data.requires_grad_(True)\n",
    "    out = x\n",
    "\n",
    "\n",
    "\n",
    "    gamma = 0.2\n",
    "\n",
    "    # node_embedding = node_embedding.data\n",
    "    # node_embedding.requires_grad_(True)\n",
    "    out = global_max_pool(out, data.graph.batch)\n",
    "    # out = hidden_layers(out)\n",
    "\n",
    "    out_ = (out @ hidden_layers._modules['0'].weight.T + hidden_layers._modules['0'].bias).data\n",
    "    out = out @ (hidden_layers._modules['0'].weight + gamma * hidden_layers._modules['0'].weight.clamp(0)).T\n",
    "    out = out / (out.data + 1e-5) * out_\n",
    "\n",
    "    out = hidden_layers._modules['1'](out) # ReLU\n",
    "    out = hidden_layers._modules['2'](out) # Dropout\n",
    "\n",
    "    out_ = (out @ hidden_layers._modules['3'].weight.T + hidden_layers._modules['3'].bias).data\n",
    "    out = out @ (hidden_layers._modules['3'].weight + gamma * hidden_layers._modules['3'].weight.clamp(0)).T\n",
    "    out = out / (out.data + 1e-5) * out_\n",
    "\n",
    "    out = hidden_layers._modules['4'](out) # ReLU\n",
    "    out = hidden_layers._modules['5'](out) # Dropout\n",
    "\n",
    "    out = classifier(out)\n",
    "    out[0][0].backward()\n",
    "\n",
    "    R_lin = (x * x.grad).detach().data\n",
    "\n",
    "\n",
    "\n",
    "\n",
    "    nn = graph_encoder._modules['gcn_layer0']\n",
    "    H, transforms = get_H_transform(input_adj,nn,H0=node_embedding,gammas=None, mode='gamma')\n",
    "    init_rel = R_lin\n",
    "\n",
    "    g = Graph(nbnodes=data.graph.edge_index.max()+1, edges=data.graph.edge_index.T.tolist(), label=data.label, node_tags=None, node_features=node_embedding, directed=True)\n",
    "\n",
    "    top_walks = topk_walks(g, nn, num_walks=50, lrp_mode=\"gamma\", mode=\"node\", H=init_rel, negative_transition_strategy='abs',init_rel=init_rel.numpy())\n",
    "    \n",
    "    xfg = dataset._XFGDataset__XFGs[idx]\n",
    "\n",
    "    html = ''\n",
    "\n",
    "\n",
    "    for linenum in list(range(len(xfg._XFG__source))):\n",
    "        alpha = 0\n",
    "        html += f'<code style=\\\"background-color: rgba(255,0,0,{alpha});\\\">' + f\"{linenum}: {xfg._XFG__source[linenum]}</code>\"\n",
    "\n",
    "    html += '<br/><br/><br/><br/>Top walks<br/><code>'\n",
    "    \n",
    "    html += str(top_walks)\n",
    "    html += '</code>'\n",
    "    \n",
    "    # display(HTML(html))\n",
    "    \n",
    "    \n",
    "    html_list.append(html)"
   ]
  },
  {
   "cell_type": "code",
   "execution_count": 28,
   "id": "fc8ab64b-bdc3-4d27-b1dd-8ec95b483a9b",
   "metadata": {
    "tags": []
   },
   "outputs": [
    {
     "data": {
      "text/plain": [
       "'<code style=\"background-color: rgba(255,0,0,0);\">0:   segment_ndx = curBucket & ssize - 1;\\n</code><code style=\"background-color: rgba(255,0,0,0);\">1:   while((curElem = segp[segment_ndx]) == ((void *)0)){\\n</code><code style=\"background-color: rgba(255,0,0,0);\">2:     if (++curBucket > max_bucket) {\\n</code><code style=\"background-color: rgba(255,0,0,0);\">3:       status -> curBucket = curBucket;\\n</code><code style=\"background-color: rgba(255,0,0,0);\">4:       hash_seq_term(status);\\n</code><code style=\"background-color: rgba(255,0,0,0);\">5:       return (void *)0;\\n</code><code style=\"background-color: rgba(255,0,0,0);\">6:     if (++segment_ndx >= ssize) {\\n</code><code style=\"background-color: rgba(255,0,0,0);\">7:       segment_num++;\\n</code><code style=\"background-color: rgba(255,0,0,0);\">8:       segment_ndx = 0;\\n</code><code style=\"background-color: rgba(255,0,0,0);\">9:       segp = hashp -> dir[segment_num];\\n</code><code style=\"background-color: rgba(255,0,0,0);\">10:   status -> curEntry = curElem -> link;\\n</code><code style=\"background-color: rgba(255,0,0,0);\">11:   if (status -> curEntry == ((void *)0)) {\\n</code><code style=\"background-color: rgba(255,0,0,0);\">12:     ++curBucket;\\n</code><code style=\"background-color: rgba(255,0,0,0);\">13:   status -> curBucket = curBucket;\\n</code><code style=\"background-color: rgba(255,0,0,0);\">14:   return (void *)(((char *)curElem) + (((intptr_t )(sizeof(HASHELEMENT ))) + (8 - 1) & ~((intptr_t )(8 - 1))));\\n</code><code style=\"background-color: rgba(255,0,0,0);\">15: void *hash_seq_search(HASH_SEQ_STATUS *status)\\n</code><code style=\"background-color: rgba(255,0,0,0);\">16:   if ((curElem = status -> curEntry) != ((void *)0)) {\\n</code><code style=\"background-color: rgba(255,0,0,0);\">17:   hashp = status -> hashp;\\n</code><code style=\"background-color: rgba(255,0,0,0);\">18:   ssize = hashp -> ssize;\\n</code><br/><br/><br/><br/>Top walks<br/><code>([((6, 7, 9, 1, 1), 0.1178421601653099), ((6, 7, 9, 9, 1), 0.12800325453281403), ((6, 7, 7, 9, 1), 0.1086554154753685), ((0, 0, 1, 1, 1), 0.10381122678518295), ((0, 0, 6, 9, 1), 0.09027218818664551), ((0, 0, 1, 2, 1), 0.139022096991539), ((15, 15, 17, 9, 1), 0.2033459097146988), ((6, 8, 8, 1, 1), 0.15780679881572723), ((0, 0, 6, 8, 1), 0.10227377712726593), ((6, 8, 1, 1, 1), 0.11770399659872055), ((6, 8, 8, 8, 1), 0.17276181280612946), ((6, 8, 6, 9, 1), 0.10458626598119736), ((6, 8, 1, 2, 1), 0.14722204208374023), ((6, 9, 1, 1, 1), 0.12388387322425842), ((6, 9, 9, 1, 1), 0.1255406141281128), ((6, 9, 9, 9, 1), 0.13390710949897766), ((0, 0, 0, 1, 1), 0.07115381956100464), ((15, 16, 17, 9, 1), 0.1696758270263672), ((6, 9, 1, 2, 1), 0.1520296037197113), ((6, 8, 6, 8, 1), 0.11441607773303986), ((0, 0, 0, 0, 1), 0.16531254351139069), ((15, 16, 18, 0, 1), 0.21662737429141998), ((6, 6, 8, 1, 1), 0.08401535451412201), ((15, 17, 17, 9, 1), 0.1278485655784607), ((6, 6, 9, 1, 1), 0.06499774754047394), ((6, 6, 9, 9, 1), 0.0700654685497284), ((6, 6, 7, 9, 1), 0.05929374694824219), ((6, 6, 8, 8, 1), 0.09449108690023422), ((15, 17, 9, 1, 1), 0.07890890538692474), ((15, 17, 9, 9, 1), 0.08367397636175156), ((6, 6, 6, 9, 1), 0.05796143040060997), ((0, 1, 1, 1, 1), 0.07517228275537491), ((0, 6, 8, 1, 1), 0.06977532058954239), ((15, 17, 18, 0, 1), 0.16398575901985168), ((0, 1, 2, 1, 1), 0.08474215120077133), ((0, 1, 1, 2, 1), 0.09246524423360825), ((8, 8, 8, 1, 1), 0.05892399698495865), ((6, 6, 6, 8, 1), 0.06473895162343979), ((0, 6, 9, 1, 1), 0.05446995049715042), ((0, 6, 9, 9, 1), 0.05835304036736488), ((0, 1, 2, 2, 1), 0.10371322929859161), ((0, 6, 7, 9, 1), 0.051461946219205856), ((0, 6, 8, 8, 1), 0.0767357125878334), ((0, 6, 6, 9, 1), 0.05102367699146271), ((8, 8, 1, 1, 1), 0.04528731480240822), ((8, 8, 8, 8, 1), 0.06337298452854156), ((8, 8, 6, 9, 1), 0.03953175991773605), ((16, 16, 17, 9, 1), 0.07098206877708435), ((8, 8, 1, 2, 1), 0.055132873356342316), ((0, 6, 6, 8, 1), 0.055049117654561996)], [])</code>'"
      ]
     },
     "execution_count": 28,
     "metadata": {},
     "output_type": "execute_result"
    }
   ],
   "source": [
    "html"
   ]
  },
  {
   "cell_type": "code",
   "execution_count": 78,
   "id": "5de1f269-c59c-4570-ae40-6c0898369b70",
   "metadata": {
    "tags": []
   },
   "outputs": [],
   "source": [
    "for i, html in enumerate(html_list):\n",
    "    h = html.replace(\"</code>\", '</pre>\\n').replace('<code', '<pre')\n",
    "    h = \"\\n\".join(h.split('\\n')[:-2]) + \"),\\n (\".join(h.split('\\n')[-2].split('), ('))\n",
    "    print(h, file=open(f\"results/htmls/{i}.html\",'w'))"
   ]
  },
  {
   "cell_type": "code",
   "execution_count": 77,
   "id": "4ac467c4-b37c-47f3-bcac-7b012e676c41",
   "metadata": {
    "tags": []
   },
   "outputs": [
    {
     "data": {
      "text/plain": [
       "'<br/><br/><br/><br/>Top walks<br/><pre>([((6, 7, 9, 1, 1), 0.1178421601653099),\\n ((6, 7, 9, 9, 1), 0.12800325453281403),\\n ((6, 7, 7, 9, 1), 0.1086554154753685),\\n ((0, 0, 1, 1, 1), 0.10381122678518295),\\n ((0, 0, 6, 9, 1), 0.09027218818664551),\\n ((0, 0, 1, 2, 1), 0.139022096991539),\\n ((15, 15, 17, 9, 1), 0.2033459097146988),\\n ((6, 8, 8, 1, 1), 0.15780679881572723),\\n ((0, 0, 6, 8, 1), 0.10227377712726593),\\n ((6, 8, 1, 1, 1), 0.11770399659872055),\\n ((6, 8, 8, 8, 1), 0.17276181280612946),\\n ((6, 8, 6, 9, 1), 0.10458626598119736),\\n ((6, 8, 1, 2, 1), 0.14722204208374023),\\n ((6, 9, 1, 1, 1), 0.12388387322425842),\\n ((6, 9, 9, 1, 1), 0.1255406141281128),\\n ((6, 9, 9, 9, 1), 0.13390710949897766),\\n ((0, 0, 0, 1, 1), 0.07115381956100464),\\n ((15, 16, 17, 9, 1), 0.1696758270263672),\\n ((6, 9, 1, 2, 1), 0.1520296037197113),\\n ((6, 8, 6, 8, 1), 0.11441607773303986),\\n ((0, 0, 0, 0, 1), 0.16531254351139069),\\n ((15, 16, 18, 0, 1), 0.21662737429141998),\\n ((6, 6, 8, 1, 1), 0.08401535451412201),\\n ((15, 17, 17, 9, 1), 0.1278485655784607),\\n ((6, 6, 9, 1, 1), 0.06499774754047394),\\n ((6, 6, 9, 9, 1), 0.0700654685497284),\\n ((6, 6, 7, 9, 1), 0.05929374694824219),\\n ((6, 6, 8, 8, 1), 0.09449108690023422),\\n ((15, 17, 9, 1, 1), 0.07890890538692474),\\n ((15, 17, 9, 9, 1), 0.08367397636175156),\\n ((6, 6, 6, 9, 1), 0.05796143040060997),\\n ((0, 1, 1, 1, 1), 0.07517228275537491),\\n ((0, 6, 8, 1, 1), 0.06977532058954239),\\n ((15, 17, 18, 0, 1), 0.16398575901985168),\\n ((0, 1, 2, 1, 1), 0.08474215120077133),\\n ((0, 1, 1, 2, 1), 0.09246524423360825),\\n ((8, 8, 8, 1, 1), 0.05892399698495865),\\n ((6, 6, 6, 8, 1), 0.06473895162343979),\\n ((0, 6, 9, 1, 1), 0.05446995049715042),\\n ((0, 6, 9, 9, 1), 0.05835304036736488),\\n ((0, 1, 2, 2, 1), 0.10371322929859161),\\n ((0, 6, 7, 9, 1), 0.051461946219205856),\\n ((0, 6, 8, 8, 1), 0.0767357125878334),\\n ((0, 6, 6, 9, 1), 0.05102367699146271),\\n ((8, 8, 1, 1, 1), 0.04528731480240822),\\n ((8, 8, 8, 8, 1), 0.06337298452854156),\\n ((8, 8, 6, 9, 1), 0.03953175991773605),\\n ((16, 16, 17, 9, 1), 0.07098206877708435),\\n ((8, 8, 1, 2, 1), 0.055132873356342316),\\n ((0, 6, 6, 8, 1), 0.055049117654561996)], [])</pre>'"
      ]
     },
     "execution_count": 77,
     "metadata": {},
     "output_type": "execute_result"
    }
   ],
   "source": [
    "\"),\\n (\".join(h.split('\\n')[-2].split('), ('))"
   ]
  },
  {
   "cell_type": "code",
   "execution_count": null,
   "id": "11c68a93-85bc-467e-932d-ce4fe3de8252",
   "metadata": {},
   "outputs": [],
   "source": []
  },
  {
   "cell_type": "code",
   "execution_count": 64,
   "id": "01516d77-6b21-4695-b5e8-7118f1fb2ef4",
   "metadata": {
    "tags": []
   },
   "outputs": [
    {
     "data": {
      "text/plain": [
       "'<code style=\"background-color: rgba(255,0,0,0);\">0&nbsp; &nbsp; &nbsp; segment_ndx&nbsp; =&nbsp; curBucket&nbsp; &&nbsp; ssize&nbsp; -&nbsp; 1;</code><br/>\\n'"
      ]
     },
     "execution_count": 64,
     "metadata": {},
     "output_type": "execute_result"
    }
   ],
   "source": [
    "h_new"
   ]
  },
  {
   "cell_type": "code",
   "execution_count": null,
   "id": "2d915143-0159-4af7-8802-6c84539d22a7",
   "metadata": {},
   "outputs": [],
   "source": []
  },
  {
   "cell_type": "code",
   "execution_count": null,
   "id": "e397a05f-a0f6-4227-bb68-3f33fcaa12ff",
   "metadata": {},
   "outputs": [],
   "source": []
  },
  {
   "cell_type": "code",
   "execution_count": 70,
   "id": "9addef0e-e776-4138-883a-8a48b9571d51",
   "metadata": {
    "tags": []
   },
   "outputs": [],
   "source": []
  },
  {
   "cell_type": "code",
   "execution_count": 71,
   "id": "9b6f61d7-0b1c-4d58-9265-92ab36fa8262",
   "metadata": {
    "tags": []
   },
   "outputs": [],
   "source": [
    "nn = graph_encoder._modules['gcn_layer0']\n",
    "H, transforms = get_H_transform(input_adj,nn,H0=node_embedding,gammas=None, mode='gamma')\n",
    "init_rel = R_lin"
   ]
  },
  {
   "cell_type": "code",
   "execution_count": 72,
   "id": "da52a1da-97ff-432c-91e1-c48164769dab",
   "metadata": {
    "tags": []
   },
   "outputs": [],
   "source": [
    "g = Graph(nbnodes=data.graph.edge_index.max()+1, edges=data.graph.edge_index.T.tolist(), label=data.label, node_tags=None, node_features=node_embedding, directed=True)"
   ]
  },
  {
   "cell_type": "code",
   "execution_count": 73,
   "id": "e9a677ec-2041-4447-9a94-4f1b2a9aec22",
   "metadata": {
    "tags": []
   },
   "outputs": [
    {
     "data": {
      "text/plain": [
       "([((32, 32, 32, 41, 29), 5.113933086395264),\n",
       "  ((32, 32, 41, 41, 29), 3.9002912044525146),\n",
       "  ((32, 32, 41, 29, 29), 3.652622699737549),\n",
       "  ((32, 41, 41, 41, 29), 2.962860107421875),\n",
       "  ((32, 41, 41, 29, 29), 2.7932369709014893),\n",
       "  ((32, 41, 29, 29, 29), 2.486395835876465),\n",
       "  ((37, 34, 41, 41, 29), 1.49775230884552),\n",
       "  ((37, 34, 41, 29, 29), 1.444093942642212),\n",
       "  ((37, 34, 34, 41, 29), 1.5025943517684937),\n",
       "  ((37, 34, 34, 24, 29), 1.70461905002594)],\n",
       " [])"
      ]
     },
     "execution_count": 73,
     "metadata": {},
     "output_type": "execute_result"
    }
   ],
   "source": [
    "topk_walks(g, nn, num_walks=10, lrp_mode=\"gamma\", mode=\"node\", H=init_rel, negative_transition_strategy='abs',init_rel=init_rel.numpy())"
   ]
  },
  {
   "cell_type": "code",
   "execution_count": 74,
   "id": "42ca7536",
   "metadata": {
    "tags": []
   },
   "outputs": [
    {
     "data": {
      "text/html": [
       "<code style=\"background-color: rgba(255,0,0,0);\">0:           if (lmp -> right[0] != '\\0' && rmp -> left[0] != '\\0') {\n",
       "</code><code style=\"background-color: rgba(255,0,0,0);\">1:     mp[i] . in[0] = ((void *)0);\n",
       "</code><code style=\"background-color: rgba(255,0,0,0);\">2:             tp = icpyalloc((lmp -> right));\n",
       "</code><code style=\"background-color: rgba(255,0,0,0);\">3:             tp = icatalloc(tp,(rmp -> left));\n",
       "</code><code style=\"background-color: rgba(255,0,0,0);\">4:             lmp -> in = enlist(lmp -> in,tp,strlen(tp));\n",
       "</code><code style=\"background-color: rgba(255,0,0,0);\">5:   for (ri = 0; ri < d -> tindex; ++ri) {\n",
       "</code><code style=\"background-color: rgba(255,0,0,0);\">6:     switch(t = d -> tokens[ri]){\n",
       "</code><code style=\"background-color: rgba(255,0,0,0);\">7:             if (lmp -> in == ((void *)0)) {\n",
       "</code><code style=\"background-color: rgba(255,0,0,0);\">8:           if (lmp -> is[0] != '\\0') {\n",
       "</code><code style=\"background-color: rgba(255,0,0,0);\">9:             lmp -> left = icatalloc(lmp -> left,(rmp -> left));\n",
       "</code><code style=\"background-color: rgba(255,0,0,0);\">10:             if (lmp -> left == ((void *)0)) {\n",
       "</code><code style=\"background-color: rgba(255,0,0,0);\">11:           if (rmp -> is[0] == '\\0') {\n",
       "</code><code style=\"background-color: rgba(255,0,0,0);\">12:             lmp -> right[0] = '\\0';\n",
       "</code><code style=\"background-color: rgba(255,0,0,0);\">13:           lmp -> right = icatalloc(lmp -> right,(rmp -> right));\n",
       "</code><code style=\"background-color: rgba(255,0,0,0);\">14:           if (lmp -> right == ((void *)0)) {\n",
       "</code><code style=\"background-color: rgba(255,0,0,0);\">15:           if (lmp -> is[0] != '\\0' && rmp -> is[0] != '\\0') {\n",
       "</code><code style=\"background-color: rgba(255,0,0,0);\">16:             lmp -> is = icatalloc(lmp -> is,(rmp -> is));\n",
       "</code><code style=\"background-color: rgba(255,0,0,0);\">17:             if (lmp -> is == ((void *)0)) {\n",
       "</code><code style=\"background-color: rgba(255,0,0,0);\">18:             lmp -> is[0] = '\\0';\n",
       "</code><code style=\"background-color: rgba(255,0,0,0);\">19:         if (t < END) {\n",
       "</code><code style=\"background-color: rgba(255,0,0,0);\">20:           if (t == '\\0') {\n",
       "</code><code style=\"background-color: rgba(255,0,0,0);\">21:             if (t >= CSET || !1 || t == ANYCHAR || t == MBCSET) {\n",
       "</code><code style=\"background-color: rgba(255,0,0,0);\">22:               mp -> in = enlist(mp -> in,mp -> is,((size_t )1));\n",
       "</code><code style=\"background-color: rgba(255,0,0,0);\">23:           rmp = --mp;\n",
       "</code><code style=\"background-color: rgba(255,0,0,0);\">24:           lmp = --mp;\n",
       "</code><code style=\"background-color: rgba(255,0,0,0);\">25:               if (mp -> in == ((void *)0)) {\n",
       "</code><code style=\"background-color: rgba(255,0,0,0);\">26:           if (!(strcmp((lmp -> is),(rmp -> is)) == 0)) {\n",
       "</code><code style=\"background-color: rgba(255,0,0,0);\">27:             lmp -> is[0] = '\\0';\n",
       "</code><code style=\"background-color: rgba(255,0,0,0);\">28: static void dfamust(struct dfa *d)\n",
       "</code><code style=\"background-color: rgba(255,0,0,0);\">29:           while(lmp -> left[i] != '\\0' && lmp -> left[i] == rmp -> left[i])\n",
       "</code><code style=\"background-color: rgba(255,0,0,0);\">30:             ++i;\n",
       "</code><code style=\"background-color: rgba(255,0,0,0);\">31:   must *musts;\n",
       "</code><code style=\"background-color: rgba(255,0,0,0);\">32:   static must must0;\n",
       "</code><code style=\"background-color: rgba(255,0,0,0);\">33:           rmp = --mp;\n",
       "</code><code style=\"background-color: rgba(255,0,0,0);\">34:   mp = musts;\n",
       "</code><code style=\"background-color: rgba(255,0,0,0);\">35:           lmp -> in = addlists(lmp -> in,rmp -> in);\n",
       "</code><code style=\"background-color: rgba(255,0,0,0);\">36:           if (lmp -> in == ((void *)0)) {\n",
       "</code><code style=\"background-color: rgba(255,0,0,0);\">37:     musts = ((sizeof(( *musts)) == 1?xmalloc(d -> tindex + 1) : xnmalloc(d -> tindex + 1,sizeof(( *musts)))));\n",
       "</code><code style=\"background-color: rgba(255,0,0,0);\">38:   }while (0);\n",
       "</code><code style=\"background-color: rgba(255,0,0,0);\">39:           lmp = --mp;\n",
       "</code><code style=\"background-color: rgba(255,0,0,0);\">40:   for (i = 0; i <= d -> tindex; ++i) \n",
       "</code><code style=\"background-color: rgba(255,0,0,0);\">41:     mp[i] = must0;\n",
       "</code><code style=\"background-color: rgba(255,0,0,0);\">42:   for (i = 0; i <= d -> tindex; ++i) {\n",
       "</code><code style=\"background-color: rgba(255,0,0,0);\">43:     mp[i] . in = (xmalloc(sizeof(( *mp[i] . in))));\n",
       "</code><code style=\"background-color: rgba(255,0,0,0);\">44:     mp[i] . left = (xmalloc(2));\n",
       "</code><code style=\"background-color: rgba(255,0,0,0);\">45:     mp[i] . right = (xmalloc(2));\n",
       "</code><code style=\"background-color: rgba(255,0,0,0);\">46:     mp[i] . is = (xmalloc(2));\n",
       "</code>"
      ],
      "text/plain": [
       "<IPython.core.display.HTML object>"
      ]
     },
     "metadata": {},
     "output_type": "display_data"
    }
   ],
   "source": [
    "xfg = dataset._XFGDataset__XFGs[idx]\n",
    "\n",
    "html = ''\n",
    "\n",
    "\n",
    "for linenum in list(range(len(xfg._XFG__source))):\n",
    "    alpha = 0\n",
    "    html += f'<code style=\\\"background-color: rgba(255,0,0,{alpha});\\\">' + f\"{linenum}: {xfg._XFG__source[linenum]}</code>\"\n",
    "    \n",
    "\n",
    "# from IPython.core.display import display, HTML\n",
    "# from IPython.display import display\n",
    "display(HTML(html))"
   ]
  },
  {
   "cell_type": "code",
   "execution_count": null,
   "id": "b2186dd8",
   "metadata": {},
   "outputs": [],
   "source": []
  },
  {
   "cell_type": "code",
   "execution_count": null,
   "id": "38059907",
   "metadata": {},
   "outputs": [],
   "source": []
  },
  {
   "cell_type": "code",
   "execution_count": null,
   "id": "72e4cc1c",
   "metadata": {},
   "outputs": [],
   "source": []
  },
  {
   "cell_type": "code",
   "execution_count": null,
   "id": "bca934e4",
   "metadata": {},
   "outputs": [],
   "source": []
  },
  {
   "cell_type": "code",
   "execution_count": null,
   "id": "9160d61d",
   "metadata": {},
   "outputs": [],
   "source": []
  },
  {
   "cell_type": "code",
   "execution_count": null,
   "id": "07787265",
   "metadata": {},
   "outputs": [],
   "source": []
  },
  {
   "cell_type": "code",
   "execution_count": null,
   "id": "d0c8c61d",
   "metadata": {},
   "outputs": [],
   "source": []
  },
  {
   "cell_type": "code",
   "execution_count": null,
   "id": "21a30822",
   "metadata": {},
   "outputs": [],
   "source": []
  },
  {
   "cell_type": "code",
   "execution_count": null,
   "id": "bff2f420",
   "metadata": {},
   "outputs": [],
   "source": []
  },
  {
   "cell_type": "code",
   "execution_count": null,
   "id": "1c7d20fe",
   "metadata": {},
   "outputs": [],
   "source": []
  },
  {
   "cell_type": "code",
   "execution_count": null,
   "id": "e0d9ba11",
   "metadata": {},
   "outputs": [],
   "source": []
  },
  {
   "cell_type": "code",
   "execution_count": null,
   "id": "fb700cc2",
   "metadata": {},
   "outputs": [],
   "source": []
  },
  {
   "cell_type": "code",
   "execution_count": null,
   "id": "a3fc787c",
   "metadata": {},
   "outputs": [],
   "source": []
  },
  {
   "cell_type": "code",
   "execution_count": null,
   "id": "6761ac35",
   "metadata": {},
   "outputs": [],
   "source": []
  },
  {
   "cell_type": "code",
   "execution_count": null,
   "id": "04b8a263",
   "metadata": {},
   "outputs": [],
   "source": []
  },
  {
   "cell_type": "code",
   "execution_count": null,
   "id": "9a8daaf4",
   "metadata": {},
   "outputs": [],
   "source": []
  },
  {
   "cell_type": "code",
   "execution_count": null,
   "id": "960a32fb",
   "metadata": {},
   "outputs": [],
   "source": []
  },
  {
   "cell_type": "code",
   "execution_count": null,
   "id": "cfe7fb16",
   "metadata": {},
   "outputs": [],
   "source": []
  },
  {
   "cell_type": "code",
   "execution_count": null,
   "id": "d65b9c3c",
   "metadata": {},
   "outputs": [],
   "source": []
  },
  {
   "cell_type": "code",
   "execution_count": null,
   "id": "abb89428",
   "metadata": {},
   "outputs": [],
   "source": []
  },
  {
   "cell_type": "code",
   "execution_count": null,
   "id": "7f6f8325",
   "metadata": {},
   "outputs": [],
   "source": []
  },
  {
   "cell_type": "code",
   "execution_count": null,
   "id": "50b6031c",
   "metadata": {},
   "outputs": [],
   "source": []
  },
  {
   "cell_type": "code",
   "execution_count": null,
   "id": "d172eac5",
   "metadata": {},
   "outputs": [],
   "source": []
  },
  {
   "cell_type": "code",
   "execution_count": null,
   "id": "1bcbd310",
   "metadata": {},
   "outputs": [],
   "source": []
  },
  {
   "cell_type": "code",
   "execution_count": null,
   "id": "eb926d59",
   "metadata": {},
   "outputs": [],
   "source": []
  },
  {
   "cell_type": "code",
   "execution_count": 7,
   "id": "e9dd33eb",
   "metadata": {},
   "outputs": [],
   "source": [
    "idx = 5\n",
    "data = dataset[idx]"
   ]
  },
  {
   "cell_type": "code",
   "execution_count": 8,
   "id": "1ce5c777",
   "metadata": {},
   "outputs": [],
   "source": [
    "data.graph.batch = torch.zeros(data.graph.x.shape[0], dtype=torch.long)"
   ]
  },
  {
   "cell_type": "code",
   "execution_count": null,
   "id": "21118832",
   "metadata": {},
   "outputs": [],
   "source": [
    "graph_encoder = model._modules['_DeepWuKong__graph_encoder']\n",
    "hidden_layers = model._modules['_DeepWuKong__hidden_layers']\n",
    "classifier = model._modules['_DeepWuKong__classifier']"
   ]
  },
  {
   "cell_type": "code",
   "execution_count": null,
   "id": "c78a2691",
   "metadata": {},
   "outputs": [],
   "source": [
    "import torch.nn.functional as F\n",
    "from torch_geometric.nn import global_max_pool\n",
    "\n",
    "batched_graph = data.graph\n",
    "node_embedding = graph_encoder._modules['_SurrogateEncoder__st_embedding'](batched_graph.x)\n",
    "edge_index = batched_graph.edge_index\n",
    "batch = batched_graph.batch"
   ]
  },
  {
   "cell_type": "code",
   "execution_count": null,
   "id": "537ee9e3",
   "metadata": {},
   "outputs": [],
   "source": [
    "gamma = 0.2\n",
    "\n",
    "node_embedding = node_embedding.data\n",
    "node_embedding.requires_grad_(True)\n",
    "out = global_max_pool(node_embedding, batch)\n",
    "# out = hidden_layers(out)\n",
    "out_ = (out @ hidden_layers._modules['0'].weight.T + hidden_layers._modules['0'].bias).data\n",
    "out = out @ (hidden_layers._modules['0'].weight + gamma * hidden_layers._modules['0'].weight.clamp(0)).T\n",
    "out = out / (out.data + 1e-5) * out_\n",
    "\n",
    "out = hidden_layers._modules['1'](out) # ReLU\n",
    "out = hidden_layers._modules['2'](out) # Dropout\n",
    "\n",
    "out_ = (out @ hidden_layers._modules['3'].weight.T + hidden_layers._modules['3'].bias).data\n",
    "out = out @ (hidden_layers._modules['3'].weight + gamma * hidden_layers._modules['3'].weight.clamp(0)).T\n",
    "out = out / (out.data + 1e-5) * out_\n",
    "\n",
    "out = hidden_layers._modules['4'](out) # ReLU\n",
    "out = hidden_layers._modules['5'](out) # Dropout\n",
    "\n",
    "out = classifier(out)\n",
    "out[0][0].backward()"
   ]
  },
  {
   "cell_type": "code",
   "execution_count": null,
   "id": "b7f68371",
   "metadata": {},
   "outputs": [],
   "source": []
  },
  {
   "cell_type": "code",
   "execution_count": null,
   "id": "7285e6f3",
   "metadata": {},
   "outputs": [],
   "source": []
  },
  {
   "cell_type": "code",
   "execution_count": null,
   "id": "21901f59",
   "metadata": {},
   "outputs": [],
   "source": [
    "node_rank = (node_embedding.grad * node_embedding).data.sum(axis=1).argsort(descending=True).tolist()"
   ]
  },
  {
   "cell_type": "code",
   "execution_count": null,
   "id": "0b19bd19",
   "metadata": {},
   "outputs": [],
   "source": [
    "node_rank_dict = {}\n",
    "for i, node in enumerate(node_rank):\n",
    "    node_rank_dict[node] = i"
   ]
  },
  {
   "cell_type": "code",
   "execution_count": null,
   "id": "5fb20015",
   "metadata": {},
   "outputs": [],
   "source": [
    "# id_to_token = {v: k for k, v in vocabulary.token_to_id.items()}\n",
    "\n",
    "# parsed = []\n",
    "# for row in data.graph.x:\n",
    "#     parsed_row = []\n",
    "#     for tok in row:\n",
    "#         token = id_to_token[int(tok)]\n",
    "#         if token != '<PAD>': parsed_row.append(token)\n",
    "#     parsed.append(' '.join(parsed_row))"
   ]
  },
  {
   "cell_type": "code",
   "execution_count": null,
   "id": "46c3a7dc",
   "metadata": {},
   "outputs": [],
   "source": [
    "xfg = dataset._XFGDataset__XFGs[idx]\n",
    "\n",
    "html = ''\n",
    "relevant_lines = node_rank_dict\n",
    "for linenum in list(range(len(xfg._XFG__source))):\n",
    "    alpha = max(0, (5-node_rank_dict[linenum]) / 5)\n",
    "    html += f'<code style=\\\"background-color: rgba(255,0,0,{alpha});\\\">' + f\"{linenum}: {xfg._XFG__source[linenum]}</code>\"\n",
    "\n",
    "\n",
    "# from IPython.core.display import display, HTML\n",
    "from IPython.display import display\n",
    "display(HTML(html))"
   ]
  },
  {
   "cell_type": "code",
   "execution_count": 120,
   "id": "f01162e0",
   "metadata": {},
   "outputs": [
    {
     "data": {
      "text/plain": [
       "'<code style=\"background-color: rgba(255,0,0,0.2);\">0:         data = (char *)malloc(50*sizeof(char));\\n</code><code style=\"background-color: rgba(255,0,0,0.8);\">1:         char source[100];\\n</code><code style=\"background-color: rgba(255,0,0,0.4);\">2:         strncpy(data, source, 100-1);\\n</code><code style=\"background-color: rgba(255,0,0,1.0);\">3:     data = NULL;\\n</code><code style=\"background-color: rgba(255,0,0,0.6);\">4:     if(STATIC_CONST_FIVE==5)\\n</code>'"
      ]
     },
     "execution_count": 120,
     "metadata": {},
     "output_type": "execute_result"
    }
   ],
   "source": [
    "html"
   ]
  },
  {
   "cell_type": "code",
   "execution_count": null,
   "id": "508a57ce",
   "metadata": {},
   "outputs": [],
   "source": []
  }
 ],
 "metadata": {
  "kernelspec": {
   "display_name": "Python 3 (ipykernel)",
   "language": "python",
   "name": "python3"
  },
  "language_info": {
   "codemirror_mode": {
    "name": "ipython",
    "version": 3
   },
   "file_extension": ".py",
   "mimetype": "text/x-python",
   "name": "python",
   "nbconvert_exporter": "python",
   "pygments_lexer": "ipython3",
   "version": "3.8.10"
  }
 },
 "nbformat": 4,
 "nbformat_minor": 5
}
